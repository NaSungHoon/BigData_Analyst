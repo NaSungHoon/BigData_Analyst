{
 "cells": [
  {
   "cell_type": "code",
   "execution_count": 2,
   "id": "59d7b50b",
   "metadata": {},
   "outputs": [],
   "source": [
    "from selenium import webdriver\n",
    "from selenium.webdriver.chrome.service import Service\n",
    "from selenium.webdriver.common.by import By\n",
    "import time\n",
    "\n",
    "from selenium.webdriver.support.ui import WebDriverWait\n",
    "\n",
    "from selenium.webdriver.chrome.options import Options\n",
    "from selenium.webdriver.support import expected_conditions as ec\n",
    "import re\n",
    "\n",
    "path = r'C:\\Users\\medici\\Downloads\\driver\\chromedriver.exe'\n",
    "s = Service(path)\n",
    "driver = webdriver.Chrome(service = s)\n",
    "\n",
    "url = f\"http://www.statiz.co.kr/main.php\"\n",
    "driver.get(url)\n",
    "driver.implicitly_wait(2) \n",
    "driver.set_window_size(1000,800)\n",
    "b = ['수아레즈']\n",
    "a=[]\n",
    "for k in b:\n",
    "    driver.find_element(By.XPATH,'//*[@id=\"search_text\"]').send_keys(k)\n",
    "    driver.find_element(By.XPATH,'//*[@id=\"search-btn\"]').click()\n",
    "    time.sleep(2)\n",
    "    driver.find_element(By.XPATH,'/html/body/div[1]/div[1]/div/section[2]/div/div[2]/div/div/div/div[2]/table/tbody/tr[2]/td[2]/a').click()\n",
    "    time.sleep(2)\n",
    "    driver.find_element(By.XPATH,'/html/body/div[1]/div[1]/div/section[2]/div/div[1]/div/div[3]/div/div[2]/table/tbody/tr/td/a[4]').click()\n",
    "    time.sleep(2)\n",
    "    for i in range(1,len(driver.find_element(By.XPATH,'/html/body/div[1]/div[1]/div/section[2]/div/div[2]/div/div[3]/div/div/table/tbody').find_elements(By.TAG_NAME,'tr'))+1):\n",
    "        if driver.find_element(By.XPATH,'/html/body/div[1]/div[1]/div/section[2]/div/div[2]/div/div[3]/div/div/table/tbody/tr['+str(i)+']').get_attribute('class')=='colhead_stz0' :\n",
    "            continue\n",
    "        else :\n",
    "            if driver.find_element(By.XPATH,'/html/body/div[1]/div[1]/div/section[2]/div/div[2]/div/div[3]/div/div/table/tbody/tr['+str(i)+']/td[4]/span').text == '1':\n",
    "                c_0 = driver.find_element(By.XPATH,'/html/body/div[1]/div[1]/div/section[2]/div/div[2]/div/div[3]/div/div/table/tbody/tr['+str(i)+']/td[1]/span').text\n",
    "                c_1 = driver.find_element(By.XPATH,'/html/body/div[1]/div[1]/div/section[2]/div/div[2]/div/div[3]/div/div/table/tbody/tr['+str(i)+']/td[2]/span').text                 \n",
    "                c_2 =driver.find_element(By.XPATH,'/html/body/div[1]/div[1]/div/section[2]/div/div[2]/div/div[3]/div/div/table/tbody/tr['+str(i)+']/td[5]/span').text\n",
    "                a.append([c_0,c_1,c_2,k])\n",
    "            else :\n",
    "                continue"
   ]
  },
  {
   "cell_type": "code",
   "execution_count": 3,
   "id": "f95be918",
   "metadata": {},
   "outputs": [
    {
     "data": {
      "text/plain": [
       "[['04-03', '@KT', '6.0', '수아레즈'],\n",
       " ['04-09', '키움', '7.0', '수아레즈'],\n",
       " ['04-15', '@SSG', '2.0', '수아레즈'],\n",
       " ['04-21', '@NC', '6.0', '수아레즈'],\n",
       " ['04-27', 'LG', '7.0', '수아레즈'],\n",
       " ['05-03', 'NC', '7.0', '수아레즈'],\n",
       " ['05-08', '@롯데', '7.0', '수아레즈'],\n",
       " ['05-15', '두산', '5.1', '수아레즈'],\n",
       " ['05-21', 'KT', '6.0', '수아레즈'],\n",
       " ['05-27', '@LG', '5.1', '수아레즈'],\n",
       " ['06-02', '@키움', '6.0', '수아레즈'],\n",
       " ['06-08', '@롯데', '6.0', '수아레즈'],\n",
       " ['06-14', '@LG', '5.0', '수아레즈'],\n",
       " ['06-19', '@KIA', '5.0', '수아레즈'],\n",
       " ['06-25', '@한화', '5.0', '수아레즈'],\n",
       " ['07-03', '@NC', '5.0', '수아레즈'],\n",
       " ['07-09', 'SSG', '6.0', '수아레즈'],\n",
       " ['07-27', '한화', '5.0', '수아레즈'],\n",
       " ['08-03', '@두산', '6.0', '수아레즈'],\n",
       " ['08-10', 'KIA', '6.0', '수아레즈'],\n",
       " ['08-16', '@LG', '5.0', '수아레즈'],\n",
       " ['08-23', '@SSG', '7.0', '수아레즈'],\n",
       " ['08-31', 'SSG', '7.0', '수아레즈'],\n",
       " ['09-07', '키움', '8.0', '수아레즈'],\n",
       " ['09-13', '@NC', '7.0', '수아레즈'],\n",
       " ['09-18', 'KIA', '5.1', '수아레즈'],\n",
       " ['09-25', 'KIA', '6.0', '수아레즈'],\n",
       " ['10-01', '두산', '6.0', '수아레즈'],\n",
       " ['10-08', 'SSG', '6.1', '수아레즈']]"
      ]
     },
     "execution_count": 3,
     "metadata": {},
     "output_type": "execute_result"
    }
   ],
   "source": [
    "a"
   ]
  },
  {
   "cell_type": "code",
   "execution_count": 4,
   "id": "a80858af",
   "metadata": {},
   "outputs": [],
   "source": [
    "import pandas as pd\n",
    "a = pd.DataFrame(a)\n",
    "a.to_csv('C:/Users/medici/Desktop/new_gener.csv',encoding= 'cp949')"
   ]
  }
 ],
 "metadata": {
  "kernelspec": {
   "display_name": "Python 3 (ipykernel)",
   "language": "python",
   "name": "python3"
  },
  "language_info": {
   "codemirror_mode": {
    "name": "ipython",
    "version": 3
   },
   "file_extension": ".py",
   "mimetype": "text/x-python",
   "name": "python",
   "nbconvert_exporter": "python",
   "pygments_lexer": "ipython3",
   "version": "3.9.13"
  }
 },
 "nbformat": 4,
 "nbformat_minor": 5
}
