{
 "cells": [
  {
   "cell_type": "code",
   "execution_count": 1,
   "id": "e9cc13a2",
   "metadata": {},
   "outputs": [],
   "source": [
    "from selenium import webdriver\n",
    "from selenium.webdriver.chrome.service import Service\n",
    "from selenium.webdriver.common.by import By\n",
    "import time\n",
    "\n",
    "from selenium.webdriver.support.ui import WebDriverWait\n",
    "\n",
    "from selenium.webdriver.chrome.options import Options\n",
    "from selenium.webdriver.support import expected_conditions as ec\n",
    "import re\n",
    "\n",
    "path = r'C:\\Users\\medici\\Downloads\\driver\\chromedriver.exe'\n",
    "s = Service(path)\n",
    "driver = webdriver.Chrome(service = s)\n",
    "\n",
    "url = f\"http://www.statiz.co.kr/main.php\"\n",
    "driver.get(url)\n",
    "driver.implicitly_wait(2) \n",
    "driver.set_window_size(1000,800)\n",
    "b = ['플럿코']\n",
    "new=[]\n",
    "for k in b:\n",
    "    driver.find_element(By.XPATH,'//*[@id=\"search_text\"]').send_keys(k)\n",
    "    driver.find_element(By.XPATH,'//*[@id=\"search-btn\"]').click()\n",
    "    driver.find_element(By.XPATH,'/html/body/div[1]/div[1]/div/section[2]/div/div[1]/div/div[3]/div/div[2]/table/tbody/tr/td/a[4]').click()\n",
    "    time.sleep(2)\n",
    "    for i in range(1,len(driver.find_element(By.XPATH,'/html/body/div[1]/div[1]/div/section[2]/div/div[2]/div/div[3]/div/div/table/tbody').find_elements(By.TAG_NAME,'tr'))+1):\n",
    "        if driver.find_element(By.XPATH,'/html/body/div[1]/div[1]/div/section[2]/div/div[2]/div/div[3]/div/div/table/tbody/tr['+str(i)+']').get_attribute('class')=='colhead_stz0' :\n",
    "            continue\n",
    "        else :\n",
    "            if driver.find_element(By.XPATH,'/html/body/div[1]/div[1]/div/section[2]/div/div[2]/div/div[3]/div/div/table/tbody/tr['+str(i)+']/td[4]/span').text == '1':\n",
    "                c_0 = driver.find_element(By.XPATH,'/html/body/div[1]/div[1]/div/section[2]/div/div[2]/div/div[3]/div/div/table/tbody/tr['+str(i)+']/td[1]/span').text\n",
    "                c_1 = driver.find_element(By.XPATH,'/html/body/div[1]/div[1]/div/section[2]/div/div[2]/div/div[3]/div/div/table/tbody/tr['+str(i)+']/td[2]/span').text                 \n",
    "                c_2 =driver.find_element(By.XPATH,'/html/body/div[1]/div[1]/div/section[2]/div/div[2]/div/div[3]/div/div/table/tbody/tr['+str(i)+']/td[5]/span').text\n",
    "                new.append([c_0,c_1,c_2,k])\n",
    "            else :\n",
    "                continue"
   ]
  },
  {
   "cell_type": "code",
   "execution_count": 2,
   "id": "d1a95ac4",
   "metadata": {},
   "outputs": [
    {
     "data": {
      "text/plain": [
       "[['04-02', '@KIA', '6.0', '플럿코'],\n",
       " ['04-08', 'NC', '5.0', '플럿코'],\n",
       " ['04-14', 'SSG', '6.0', '플럿코'],\n",
       " ['04-20', 'KT', '7.0', '플럿코'],\n",
       " ['04-26', '@삼성', '5.2', '플럿코'],\n",
       " ['05-03', '두산', '5.0', '플럿코'],\n",
       " ['05-08', '@NC', '6.0', '플럿코'],\n",
       " ['05-14', 'KIA', '6.0', '플럿코'],\n",
       " ['05-20', '@SSG', '6.0', '플럿코'],\n",
       " ['05-26', '키움', '5.0', '플럿코'],\n",
       " ['06-01', '@롯데', '5.0', '플럿코'],\n",
       " ['06-08', '@KIA', '5.1', '플럿코'],\n",
       " ['06-14', '삼성', '8.1', '플럿코'],\n",
       " ['06-19', '@키움', '7.0', '플럿코'],\n",
       " ['06-25', '@KT', '6.0', '플럿코'],\n",
       " ['07-02', '롯데', '6.0', '플럿코'],\n",
       " ['07-08', '@두산', '6.2', '플럿코'],\n",
       " ['07-14', 'KIA', '5.0', '플럿코'],\n",
       " ['07-26', '@SSG', '7.0', '플럿코'],\n",
       " ['08-02', '@롯데', '6.0', '플럿코'],\n",
       " ['08-07', '키움', '6.2', '플럿코'],\n",
       " ['08-16', '삼성', '6.0', '플럿코'],\n",
       " ['08-23', '@한화', '5.1', '플럿코'],\n",
       " ['08-28', '키움', '6.0', '플럿코'],\n",
       " ['09-04', '@롯데', '6.0', '플럿코'],\n",
       " ['09-10', '@삼성', '6.0', '플럿코'],\n",
       " ['09-20', '@KIA', '6.0', '플럿코'],\n",
       " ['09-25', '@SSG', '0.0', '플럿코'],\n",
       " ['10-25', '키움', '1.2', '플럿코']]"
      ]
     },
     "execution_count": 2,
     "metadata": {},
     "output_type": "execute_result"
    }
   ],
   "source": [
    "new"
   ]
  },
  {
   "cell_type": "code",
   "execution_count": 3,
   "id": "5fd26236",
   "metadata": {},
   "outputs": [],
   "source": [
    "import pandas as pd\n",
    "new = pd.DataFrame(new)\n",
    "new.to_csv('C:/Users/medici/Desktop/top20.csv',encoding= 'cp949')"
   ]
  }
 ],
 "metadata": {
  "kernelspec": {
   "display_name": "Python 3 (ipykernel)",
   "language": "python",
   "name": "python3"
  },
  "language_info": {
   "codemirror_mode": {
    "name": "ipython",
    "version": 3
   },
   "file_extension": ".py",
   "mimetype": "text/x-python",
   "name": "python",
   "nbconvert_exporter": "python",
   "pygments_lexer": "ipython3",
   "version": "3.9.13"
  }
 },
 "nbformat": 4,
 "nbformat_minor": 5
}
